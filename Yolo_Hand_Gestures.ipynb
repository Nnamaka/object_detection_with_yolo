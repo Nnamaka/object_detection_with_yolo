{
  "nbformat": 4,
  "nbformat_minor": 0,
  "metadata": {
    "colab": {
      "name": "Yolo_Hand_Gestures.ipynb",
      "provenance": [],
      "authorship_tag": "ABX9TyPSy7VtOyQe1YsNphAm5PE4",
      "include_colab_link": true
    },
    "kernelspec": {
      "name": "python3",
      "display_name": "Python 3"
    },
    "language_info": {
      "name": "python"
    }
  },
  "cells": [
    {
      "cell_type": "markdown",
      "metadata": {
        "id": "view-in-github",
        "colab_type": "text"
      },
      "source": [
        "<a href=\"https://colab.research.google.com/github/Nnamaka/object_detection_with_yolo/blob/main/Yolo_Hand_Gestures.ipynb\" target=\"_parent\"><img src=\"https://colab.research.google.com/assets/colab-badge.svg\" alt=\"Open In Colab\"/></a>"
      ]
    },
    {
      "cell_type": "markdown",
      "source": [
        "#Hand Gesture Reccognition with YOLOv5\n"
      ],
      "metadata": {
        "id": "jWD-aUT0SNLj"
      }
    },
    {
      "cell_type": "markdown",
      "source": [
        "This notebook is a run-through of the major steps to perform a complete pipeline of training a custom object detection model using YOLO. "
      ],
      "metadata": {
        "id": "B83tcrLpShuD"
      }
    },
    {
      "cell_type": "markdown",
      "source": [
        "I wrote a blog tutorial describing details of the procedure for training a Yolov5 model on your custom dataset. \n",
        "Check it out here--------"
      ],
      "metadata": {
        "id": "vAGJwk_2UWQ2"
      }
    },
    {
      "cell_type": "markdown",
      "source": [
        "The basic steps are:\n",
        "\n",
        "* Install Yolo Requirments\n",
        "* Get Annotated dataset (From Roboflow)\n",
        "* Train Yolo for custome detections\n",
        "* Insfer the New trainded model weights"
      ],
      "metadata": {
        "id": "89NUOZqbS8q1"
      }
    },
    {
      "cell_type": "code",
      "execution_count": null,
      "metadata": {
        "id": "PvhUuCgFwlTg"
      },
      "outputs": [],
      "source": [
        "!pip install roboflow\n",
        "\n",
        "from roboflow import Roboflow\n",
        "rf = Roboflow(api_key=\"7ZcPQrP6AVSru7zSpWsY\")\n",
        "project = rf.workspace(\"gestures-kejav\").project(\"hand_gestures-iwirp\")\n",
        "dataset = project.version(1).download(\"yolov5\")"
      ]
    },
    {
      "cell_type": "code",
      "source": [
        ""
      ],
      "metadata": {
        "id": "u4jZhgw5SB4G"
      },
      "execution_count": null,
      "outputs": []
    }
  ]
}