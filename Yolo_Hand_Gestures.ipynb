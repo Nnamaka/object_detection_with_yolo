{
  "nbformat": 4,
  "nbformat_minor": 0,
  "metadata": {
    "colab": {
      "name": "Yolo_Hand_Gestures.ipynb",
      "provenance": [],
      "collapsed_sections": [],
      "authorship_tag": "ABX9TyPG/hT+xzKtrYXtyl8/xAMR",
      "include_colab_link": true
    },
    "kernelspec": {
      "name": "python3",
      "display_name": "Python 3"
    },
    "language_info": {
      "name": "python"
    }
  },
  "cells": [
    {
      "cell_type": "markdown",
      "metadata": {
        "id": "view-in-github",
        "colab_type": "text"
      },
      "source": [
        "<a href=\"https://colab.research.google.com/github/Nnamaka/object_detection_with_yolo/blob/main/Yolo_Hand_Gestures.ipynb\" target=\"_parent\"><img src=\"https://colab.research.google.com/assets/colab-badge.svg\" alt=\"Open In Colab\"/></a>"
      ]
    },
    {
      "cell_type": "markdown",
      "source": [
        "#Hand Gesture Reccognition with YOLOv5\n"
      ],
      "metadata": {
        "id": "jWD-aUT0SNLj"
      }
    },
    {
      "cell_type": "markdown",
      "source": [
        "This notebook is a run-through of the major steps to perform a complete training pipeline for a custom object detection model using YOLO. "
      ],
      "metadata": {
        "id": "B83tcrLpShuD"
      }
    },
    {
      "cell_type": "markdown",
      "source": [
        "I wrote a blog tutorial describing details of the procedure for training a Yolov5 model on your custom dataset. \n",
        "Check it out here--------"
      ],
      "metadata": {
        "id": "vAGJwk_2UWQ2"
      }
    },
    {
      "cell_type": "markdown",
      "source": [
        "The basic steps are:\n",
        "\n",
        "* Install Yolo Requirments\n",
        "* Get Annotated dataset (From Roboflow)\n",
        "* Train Yolo for custome detections\n",
        "* Insfer the New trainded model weights"
      ],
      "metadata": {
        "id": "89NUOZqbS8q1"
      }
    },
    {
      "cell_type": "markdown",
      "source": [
        ""
      ],
      "metadata": {
        "id": "PSjoQIkzVhyr"
      }
    },
    {
      "cell_type": "markdown",
      "source": [
        "##Step- 1 Install yolo from its repo"
      ],
      "metadata": {
        "id": "z7GFCpuzViFs"
      }
    },
    {
      "cell_type": "code",
      "source": [
        "import torch\n",
        "import os\n",
        "from IPython.display import Image, clear_output"
      ],
      "metadata": {
        "id": "P3MXC0DSWf-t"
      },
      "execution_count": null,
      "outputs": []
    },
    {
      "cell_type": "markdown",
      "source": [
        "see what GPU we have."
      ],
      "metadata": {
        "id": "GLgycPF3XdKH"
      }
    },
    {
      "cell_type": "code",
      "source": [
        "print(f\"Setup complete. Using torch {torch.__version__} ({torch.cuda.get_device_properties(0).name if torch.cuda.is_available() else 'CPU'})\")"
      ],
      "metadata": {
        "id": "hEKwa5InW1zs"
      },
      "execution_count": null,
      "outputs": []
    },
    {
      "cell_type": "markdown",
      "source": [
        "clone her"
      ],
      "metadata": {
        "id": "Le42gNnqXiEG"
      }
    },
    {
      "cell_type": "code",
      "source": [
        "# clone yolo5\n",
        "!git clone https://github.com/ultralytics/yolov5  \n"
      ],
      "metadata": {
        "id": "GdQsuZAXV9a3"
      },
      "execution_count": null,
      "outputs": []
    },
    {
      "cell_type": "markdown",
      "source": [
        "Install requirments"
      ],
      "metadata": {
        "id": "uzfmlb_NXpRs"
      }
    },
    {
      "cell_type": "code",
      "source": [
        "%cd yolov5\n",
        "%pip install -qr requirements.txt\n",
        "%pip install -q roboflow"
      ],
      "metadata": {
        "id": "F-azH6wRW77p"
      },
      "execution_count": null,
      "outputs": []
    },
    {
      "cell_type": "markdown",
      "source": [
        "##Get our annotated Dataset from Roboflow"
      ],
      "metadata": {
        "id": "_TGOGhB1X0eH"
      }
    },
    {
      "cell_type": "code",
      "execution_count": null,
      "metadata": {
        "id": "PvhUuCgFwlTg"
      },
      "outputs": [],
      "source": [
        "!pip install roboflow\n",
        "\n",
        "from roboflow import Roboflow\n",
        "rf = Roboflow(api_key=\"7ZcPQrP6AVSru7zSpWsY\")\n",
        "project = rf.workspace(\"gestures-kejav\").project(\"hand_gestures-iwirp\")\n",
        "dataset = project.version(1).download(\"yolov5\")"
      ]
    },
    {
      "cell_type": "code",
      "source": [
        ""
      ],
      "metadata": {
        "id": "u4jZhgw5SB4G"
      },
      "execution_count": null,
      "outputs": []
    }
  ]
}